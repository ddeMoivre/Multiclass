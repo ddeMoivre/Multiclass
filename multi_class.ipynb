{
 "cells": [
  {
   "cell_type": "markdown",
   "metadata": {},
   "source": [
    "## Introduction\n",
    "\n",
    "A partir d'un dataset, nous allons réaliseré une prédiction des profils dont le métier n'est pas labellisé.\n",
    "\n",
    "\n",
    "## Données\n",
    "data.csv contient 6 variables : \n",
    "    - 'Entreprise' correspond à une liste d'entreprises fictive\n",
    "    - 'Metier' correspond au métier parmi data scientist, lead data scientist, data engineer et data architecte\n",
    "    - 'Technologies' correspond aux compétences maîtrisées par le profil\n",
    "    - 'Diplome' correspond à son niveau scolaire (Bac, Master, PhD,...)\n",
    "    - 'Experience' correspond au nombre d'années d'expériences\n",
    "    - 'Ville' correspond au lieu de travail"
   ]
  },
  {
   "cell_type": "code",
   "execution_count": 1,
   "metadata": {},
   "outputs": [],
   "source": [
    "# Import des libraries classique (numpy, pandas, ...)\n",
    "import pandas as pd\n",
    "import numpy as np\n",
    "import re\n",
    "import sklearn as sk\n",
    "import seaborn as sb\n",
    "from matplotlib import pyplot as plt\n",
    "plt.style.use('ggplot')"
   ]
  },
  {
   "cell_type": "code",
   "execution_count": 2,
   "metadata": {},
   "outputs": [],
   "source": [
    "# Import du dataframe \"data.csv\"\n",
    "df = pd.read_csv('data.csv')"
   ]
  },
  {
   "cell_type": "code",
   "execution_count": 3,
   "metadata": {},
   "outputs": [
    {
     "data": {
      "text/html": [
       "<div>\n",
       "<style scoped>\n",
       "    .dataframe tbody tr th:only-of-type {\n",
       "        vertical-align: middle;\n",
       "    }\n",
       "\n",
       "    .dataframe tbody tr th {\n",
       "        vertical-align: top;\n",
       "    }\n",
       "\n",
       "    .dataframe thead th {\n",
       "        text-align: right;\n",
       "    }\n",
       "</style>\n",
       "<table border=\"1\" class=\"dataframe\">\n",
       "  <thead>\n",
       "    <tr style=\"text-align: right;\">\n",
       "      <th></th>\n",
       "      <th>Entreprise</th>\n",
       "      <th>Metier</th>\n",
       "      <th>Technologies</th>\n",
       "      <th>Diplome</th>\n",
       "      <th>Experience</th>\n",
       "      <th>Ville</th>\n",
       "    </tr>\n",
       "  </thead>\n",
       "  <tbody>\n",
       "    <tr>\n",
       "      <th>0</th>\n",
       "      <td>Sanofi</td>\n",
       "      <td>Data scientist</td>\n",
       "      <td>Matlab/Python/Pyspark/Scikit-learn/Tensorflow</td>\n",
       "      <td>Master</td>\n",
       "      <td>1</td>\n",
       "      <td>Paris</td>\n",
       "    </tr>\n",
       "    <tr>\n",
       "      <th>1</th>\n",
       "      <td>Massachusetts General Hospital(MGH)</td>\n",
       "      <td>Data architecte</td>\n",
       "      <td>Python/Java/Scala/MongoDB</td>\n",
       "      <td>Master</td>\n",
       "      <td>3</td>\n",
       "      <td>Marseille</td>\n",
       "    </tr>\n",
       "    <tr>\n",
       "      <th>2</th>\n",
       "      <td>Delve</td>\n",
       "      <td>Lead data scientist</td>\n",
       "      <td>SPSS/SQL/Teradata/R/Python/Tensorflow/scikit-l...</td>\n",
       "      <td>Master</td>\n",
       "      <td>3</td>\n",
       "      <td>Nantes</td>\n",
       "    </tr>\n",
       "    <tr>\n",
       "      <th>3</th>\n",
       "      <td>Ann &amp; Robert H. Lurie Children’s Hospital of C...</td>\n",
       "      <td>Data scientist</td>\n",
       "      <td>C/C++/Java/Python</td>\n",
       "      <td>Master</td>\n",
       "      <td>1,5</td>\n",
       "      <td>Marseille</td>\n",
       "    </tr>\n",
       "    <tr>\n",
       "      <th>4</th>\n",
       "      <td>Arm</td>\n",
       "      <td>Data scientist</td>\n",
       "      <td>Matlab/Python/C++/numpy/Tensorflow/scikit-learn</td>\n",
       "      <td>Phd</td>\n",
       "      <td>NaN</td>\n",
       "      <td>Bordeaux</td>\n",
       "    </tr>\n",
       "  </tbody>\n",
       "</table>\n",
       "</div>"
      ],
      "text/plain": [
       "                                          Entreprise               Metier  \\\n",
       "0                                             Sanofi       Data scientist   \n",
       "1                Massachusetts General Hospital(MGH)      Data architecte   \n",
       "2                                              Delve  Lead data scientist   \n",
       "3  Ann & Robert H. Lurie Children’s Hospital of C...       Data scientist   \n",
       "4                                                Arm       Data scientist   \n",
       "\n",
       "                                        Technologies Diplome Experience  \\\n",
       "0      Matlab/Python/Pyspark/Scikit-learn/Tensorflow  Master          1   \n",
       "1                          Python/Java/Scala/MongoDB  Master          3   \n",
       "2  SPSS/SQL/Teradata/R/Python/Tensorflow/scikit-l...  Master          3   \n",
       "3                                  C/C++/Java/Python  Master        1,5   \n",
       "4    Matlab/Python/C++/numpy/Tensorflow/scikit-learn     Phd        NaN   \n",
       "\n",
       "       Ville  \n",
       "0      Paris  \n",
       "1  Marseille  \n",
       "2     Nantes  \n",
       "3  Marseille  \n",
       "4   Bordeaux  "
      ]
     },
     "execution_count": 3,
     "metadata": {},
     "output_type": "execute_result"
    }
   ],
   "source": [
    "df.head()"
   ]
  },
  {
   "cell_type": "code",
   "execution_count": 4,
   "metadata": {
    "scrolled": false
   },
   "outputs": [
    {
     "name": "stdout",
     "output_type": "stream",
     "text": [
      "<class 'pandas.core.frame.DataFrame'>\n",
      "RangeIndex: 9582 entries, 0 to 9581\n",
      "Data columns (total 6 columns):\n",
      " #   Column        Non-Null Count  Dtype \n",
      "---  ------        --------------  ----- \n",
      " 0   Entreprise    9565 non-null   object\n",
      " 1   Metier        9563 non-null   object\n",
      " 2   Technologies  9582 non-null   object\n",
      " 3   Diplome       9582 non-null   object\n",
      " 4   Experience    9488 non-null   object\n",
      " 5   Ville         9582 non-null   object\n",
      "dtypes: object(6)\n",
      "memory usage: 449.3+ KB\n"
     ]
    }
   ],
   "source": [
    "df.info()"
   ]
  },
  {
   "cell_type": "markdown",
   "metadata": {},
   "source": [
    "Le nombre d'observations est 9582. On voit qu'il y des valeurs manquantes pour plusieurs varables. Mais le nombre des valeaurs manquantes est insignifiant par rapport au nombre total."
   ]
  },
  {
   "cell_type": "code",
   "execution_count": 5,
   "metadata": {
    "scrolled": true
   },
   "outputs": [
    {
     "data": {
      "text/plain": [
       "Entreprise      17\n",
       "Metier          19\n",
       "Technologies     0\n",
       "Diplome          0\n",
       "Experience      94\n",
       "Ville            0\n",
       "dtype: int64"
      ]
     },
     "execution_count": 5,
     "metadata": {},
     "output_type": "execute_result"
    }
   ],
   "source": [
    "df.isna().sum()"
   ]
  },
  {
   "cell_type": "markdown",
   "metadata": {},
   "source": [
    "### La variable Expérience"
   ]
  },
  {
   "cell_type": "markdown",
   "metadata": {},
   "source": [
    "Réalisons l'imputation des valeurs manquantes pour la variable \"Experience\"."
   ]
  },
  {
   "cell_type": "code",
   "execution_count": 6,
   "metadata": {
    "scrolled": true
   },
   "outputs": [
    {
     "data": {
      "text/plain": [
       "array(['1', '3', '1,5', nan, '6', '0', '4', '8', '5', '0,5', '2', '3,5',\n",
       "       '9', '7', '2,5', '13', '17', '12', '10', '11', '15', '21'],\n",
       "      dtype=object)"
      ]
     },
     "execution_count": 6,
     "metadata": {},
     "output_type": "execute_result"
    }
   ],
   "source": [
    "df['Experience'].unique()"
   ]
  },
  {
   "cell_type": "code",
   "execution_count": 7,
   "metadata": {},
   "outputs": [],
   "source": [
    "df['Experience'] = df['Experience'].str.replace(',','.')"
   ]
  },
  {
   "cell_type": "code",
   "execution_count": 8,
   "metadata": {},
   "outputs": [],
   "source": [
    "df['Experience'] = pd.to_numeric(df['Experience'])"
   ]
  },
  {
   "cell_type": "code",
   "execution_count": 9,
   "metadata": {},
   "outputs": [],
   "source": [
    "# Imputer les valeurs manquants par le moyen.\n",
    "df.fillna({'Experience' : round(df['Experience'].mean(),0)}, inplace=True)"
   ]
  },
  {
   "cell_type": "code",
   "execution_count": 10,
   "metadata": {},
   "outputs": [
    {
     "data": {
      "text/plain": [
       "0"
      ]
     },
     "execution_count": 10,
     "metadata": {},
     "output_type": "execute_result"
    }
   ],
   "source": [
    "df['Experience'].isna().sum()"
   ]
  },
  {
   "cell_type": "markdown",
   "metadata": {},
   "source": [
    "Combien d'années d'expériences ont, en moyenne, chacun des profils?"
   ]
  },
  {
   "cell_type": "code",
   "execution_count": 11,
   "metadata": {
    "scrolled": true
   },
   "outputs": [
    {
     "data": {
      "image/png": "[encoded data removed]",
      "text/plain": [
       "<Figure size 1080x288 with 2 Axes>"
      ]
     },
     "metadata": {},
     "output_type": "display_data"
    }
   ],
   "source": [
    "fig, axes = plt.subplots(ncols=2, figsize=(15,4))\n",
    "df.groupby('Metier').mean()['Experience'].plot.bar(ax=axes[0])\n",
    "axes[0].set_title(\"L'expérience en moyenne\", fontsize=12)\n",
    "sb.kdeplot(data=df, x='Experience', hue='Metier', ax=axes[1])\n",
    "axes[1].set_title(\"La distribution de l'expérience\", fontsize=12);"
   ]
  },
  {
   "cell_type": "markdown",
   "metadata": {},
   "source": [
    "L'éxperience en moyenne est égale 3 ans chez data architecte et data engineer. Lead data scientist ont en moyenne 4 ans d'expérience et data scientist 2,2 ans. La variable 'Experience' est une variable ordinal, transformons en une nouvelle variable catégorielle 'Exp_label' à 4 modalités: débutant, confirmé, avancé et expert.  "
   ]
  },
  {
   "cell_type": "code",
   "execution_count": 12,
   "metadata": {
    "scrolled": true
   },
   "outputs": [
    {
     "data": {
      "image/png": "[encoded data removed]",
      "text/plain": [
       "<Figure size 720x144 with 1 Axes>"
      ]
     },
     "metadata": {},
     "output_type": "display_data"
    }
   ],
   "source": [
    "fig, ax = plt.subplots(figsize=(10,2))\n",
    "sb.boxplot(x='Experience', showmeans=True, data=df, ax=ax)\n",
    "plt.show()"
   ]
  },
  {
   "cell_type": "code",
   "execution_count": 13,
   "metadata": {},
   "outputs": [],
   "source": [
    "df['Exp_label'] = pd.cut(df['Experience'], bins=[0,2.5,4,7,30], right=False,\n",
    "                  labels=['Debutant', 'Confirme', 'Avance', 'Expert'])"
   ]
  },
  {
   "cell_type": "code",
   "execution_count": 14,
   "metadata": {
    "scrolled": false
   },
   "outputs": [
    {
     "data": {
      "image/png": "[encoded data removed]",
      "text/plain": [
       "<Figure size 1080x288 with 2 Axes>"
      ]
     },
     "metadata": {},
     "output_type": "display_data"
    }
   ],
   "source": [
    "fig, axes = plt.subplots(ncols=2, figsize=(15,4))\n",
    "sb.countplot(x='Exp_label', data=df, ax=axes[0], palette='Set2', \n",
    "             order=df['Exp_label'].value_counts().index)\n",
    "sb.countplot(x='Exp_label', hue='Metier', data=df, ax=axes[1],\n",
    "             order=df['Exp_label'].value_counts().index)\n",
    "plt.show()"
   ]
  },
  {
   "cell_type": "markdown",
   "metadata": {},
   "source": [
    "### La variable Technologie"
   ]
  },
  {
   "cell_type": "markdown",
   "metadata": {},
   "source": [
    "Cherchons 5 technologies les plus utilisées."
   ]
  },
  {
   "cell_type": "code",
   "execution_count": 15,
   "metadata": {
    "scrolled": true
   },
   "outputs": [],
   "source": [
    "#df.head()"
   ]
  },
  {
   "cell_type": "code",
   "execution_count": 16,
   "metadata": {},
   "outputs": [],
   "source": [
    "# Une liste qui contients toutes les technologies.\n",
    "A = []\n",
    "for i in range(len(df)):\n",
    "    A.extend(map(str.lower, df.iloc[i,2].split('/')))\n",
    "\n",
    "values, counts = np.unique(A, return_counts=True)"
   ]
  },
  {
   "cell_type": "code",
   "execution_count": 17,
   "metadata": {
    "scrolled": true
   },
   "outputs": [
    {
     "data": {
      "text/plain": [
       "array(['', 'ai', 'anglais', 'aws', 'big data', 'c', 'c++', 'cassandra',\n",
       "       'deep learning', 'docker', 'elasticsearch', 'excel', 'gnu',\n",
       "       'hadoop', 'hadoop(hdfs)', 'hbase', 'hdfs', 'hive', 'java', 'kafka',\n",
       "       'kibana', 'linux', 'machine learning', 'map-reduce', 'mariadb',\n",
       "       'matlab', 'matplotlib', 'microsoft azure', 'mongodb', 'mysql',\n",
       "       'nosq', 'nosql', 'numpy', 'oracle', 'perl', 'pig', 'postgresql',\n",
       "       'pycharm', 'pyspark', 'python', 'r', 'redshift', 'ruby', 'sas',\n",
       "       'scala', 'scikit-learn', 'scoring', 'spark', 'spss', 'sql',\n",
       "       'tableau', 'tensorflow', 'teradata', 'vba', 'vertica', 'windows',\n",
       "       'yarn'], dtype='<U16')"
      ]
     },
     "execution_count": 17,
     "metadata": {},
     "output_type": "execute_result"
    }
   ],
   "source": [
    "values"
   ]
  },
  {
   "cell_type": "code",
   "execution_count": 18,
   "metadata": {},
   "outputs": [],
   "source": [
    "# Dataframe de technologie, nombre de candidads et \n",
    "# pourcentage de candidads qui maîtrisent la technologie.\n",
    "df_tech = pd.DataFrame(\n",
    "        {\n",
    "            'Technologie': values[1:], # commencer par index 1 pour exclure l'espace vide \n",
    "            'Nombre': counts[1:],\n",
    "            'Pourcentage %': [round(100*i/len(df)) for i in counts[1:]]\n",
    "        }\n",
    ")\n",
    "#Trions selon le \"Nombre\".\n",
    "df_tech = df_tech.sort_values(by='Nombre', ascending=False).reset_index(drop=True)"
   ]
  },
  {
   "cell_type": "code",
   "execution_count": 19,
   "metadata": {
    "scrolled": true
   },
   "outputs": [
    {
     "data": {
      "text/html": [
       "<div>\n",
       "<style scoped>\n",
       "    .dataframe tbody tr th:only-of-type {\n",
       "        vertical-align: middle;\n",
       "    }\n",
       "\n",
       "    .dataframe tbody tr th {\n",
       "        vertical-align: top;\n",
       "    }\n",
       "\n",
       "    .dataframe thead th {\n",
       "        text-align: right;\n",
       "    }\n",
       "</style>\n",
       "<table border=\"1\" class=\"dataframe\">\n",
       "  <thead>\n",
       "    <tr style=\"text-align: right;\">\n",
       "      <th></th>\n",
       "      <th>Technologie</th>\n",
       "      <th>Nombre</th>\n",
       "      <th>Pourcentage %</th>\n",
       "    </tr>\n",
       "  </thead>\n",
       "  <tbody>\n",
       "    <tr>\n",
       "      <th>0</th>\n",
       "      <td>python</td>\n",
       "      <td>6627</td>\n",
       "      <td>69.0</td>\n",
       "    </tr>\n",
       "    <tr>\n",
       "      <th>1</th>\n",
       "      <td>r</td>\n",
       "      <td>4374</td>\n",
       "      <td>46.0</td>\n",
       "    </tr>\n",
       "    <tr>\n",
       "      <th>2</th>\n",
       "      <td>sql</td>\n",
       "      <td>2581</td>\n",
       "      <td>27.0</td>\n",
       "    </tr>\n",
       "    <tr>\n",
       "      <th>3</th>\n",
       "      <td>java</td>\n",
       "      <td>1719</td>\n",
       "      <td>18.0</td>\n",
       "    </tr>\n",
       "    <tr>\n",
       "      <th>4</th>\n",
       "      <td>hadoop</td>\n",
       "      <td>1589</td>\n",
       "      <td>17.0</td>\n",
       "    </tr>\n",
       "  </tbody>\n",
       "</table>\n",
       "</div>"
      ],
      "text/plain": [
       "  Technologie  Nombre  Pourcentage %\n",
       "0      python    6627           69.0\n",
       "1           r    4374           46.0\n",
       "2         sql    2581           27.0\n",
       "3        java    1719           18.0\n",
       "4      hadoop    1589           17.0"
      ]
     },
     "execution_count": 19,
     "metadata": {},
     "output_type": "execute_result"
    }
   ],
   "source": [
    "df_tech.head(5)"
   ]
  },
  {
   "cell_type": "markdown",
   "metadata": {},
   "source": [
    "Les 5 technologies les plus utilisées sont Python, R, SQL, Java, Hadoop."
   ]
  },
  {
   "cell_type": "code",
   "execution_count": 20,
   "metadata": {
    "scrolled": false
   },
   "outputs": [
    {
     "data": {
      "image/png": "[encoded data removed]",
      "text/plain": [
       "<Figure size 432x288 with 1 Axes>"
      ]
     },
     "metadata": {},
     "output_type": "display_data"
    }
   ],
   "source": [
    "sb.barplot(x=\"Technologie\", y=\"Nombre\", palette = \"rocket\", data = df_tech[:5]);"
   ]
  },
  {
   "cell_type": "code",
   "execution_count": 21,
   "metadata": {},
   "outputs": [
    {
     "data": {
      "text/plain": [
       "14"
      ]
     },
     "execution_count": 21,
     "metadata": {},
     "output_type": "execute_result"
    }
   ],
   "source": [
    "len(df['Ville'].unique())"
   ]
  },
  {
   "cell_type": "code",
   "execution_count": 22,
   "metadata": {},
   "outputs": [
    {
     "data": {
      "text/plain": [
       "1383"
      ]
     },
     "execution_count": 22,
     "metadata": {},
     "output_type": "execute_result"
    }
   ],
   "source": [
    "len(df['Entreprise'].unique())"
   ]
  },
  {
   "cell_type": "markdown",
   "metadata": {},
   "source": [
    "La variable 'Entreprise' n'est pas une variable pertinant pour clustering des profils techniques distinctes et classification des métiers."
   ]
  },
  {
   "cell_type": "code",
   "execution_count": 23,
   "metadata": {},
   "outputs": [],
   "source": [
    "df_ = df.drop('Entreprise', axis=1).copy()"
   ]
  },
  {
   "cell_type": "markdown",
   "metadata": {},
   "source": [
    "Pour exploiter la variable \"Technologies\" nous allons la transformer en plusieurs variables indicatrices."
   ]
  },
  {
   "cell_type": "code",
   "execution_count": 24,
   "metadata": {},
   "outputs": [],
   "source": [
    "# Ajouter des nouvelles colonnes à data qui correspondent, aux technologies. \n",
    "# Ces colonnes sont composés de 0 et 1. 0 si l'individu ne maîtrise pas \n",
    "# la technologie.\n",
    "\n",
    "df_num = df_.copy()\n",
    "for j in df_tech['Technologie']: # l'ensemble de technologies\n",
    "    df_num[j] = df_num['Technologies'].apply(lambda x: 1 if j in x.lower() else 0)"
   ]
  },
  {
   "cell_type": "code",
   "execution_count": 25,
   "metadata": {
    "scrolled": true
   },
   "outputs": [
    {
     "data": {
      "text/html": [
       "<div>\n",
       "<style scoped>\n",
       "    .dataframe tbody tr th:only-of-type {\n",
       "        vertical-align: middle;\n",
       "    }\n",
       "\n",
       "    .dataframe tbody tr th {\n",
       "        vertical-align: top;\n",
       "    }\n",
       "\n",
       "    .dataframe thead th {\n",
       "        text-align: right;\n",
       "    }\n",
       "</style>\n",
       "<table border=\"1\" class=\"dataframe\">\n",
       "  <thead>\n",
       "    <tr style=\"text-align: right;\">\n",
       "      <th></th>\n",
       "      <th>Metier</th>\n",
       "      <th>Technologies</th>\n",
       "      <th>Diplome</th>\n",
       "      <th>Experience</th>\n",
       "      <th>Ville</th>\n",
       "      <th>Exp_label</th>\n",
       "      <th>python</th>\n",
       "      <th>r</th>\n",
       "      <th>sql</th>\n",
       "      <th>java</th>\n",
       "      <th>...</th>\n",
       "      <th>hbase</th>\n",
       "      <th>numpy</th>\n",
       "      <th>redshift</th>\n",
       "      <th>nosq</th>\n",
       "      <th>hadoop(hdfs)</th>\n",
       "      <th>oracle</th>\n",
       "      <th>mysql</th>\n",
       "      <th>windows</th>\n",
       "      <th>perl</th>\n",
       "      <th>ruby</th>\n",
       "    </tr>\n",
       "  </thead>\n",
       "  <tbody>\n",
       "    <tr>\n",
       "      <th>0</th>\n",
       "      <td>Data scientist</td>\n",
       "      <td>Matlab/Python/Pyspark/Scikit-learn/Tensorflow</td>\n",
       "      <td>Master</td>\n",
       "      <td>1.0</td>\n",
       "      <td>Paris</td>\n",
       "      <td>Debutant</td>\n",
       "      <td>1</td>\n",
       "      <td>1</td>\n",
       "      <td>0</td>\n",
       "      <td>0</td>\n",
       "      <td>...</td>\n",
       "      <td>0</td>\n",
       "      <td>0</td>\n",
       "      <td>0</td>\n",
       "      <td>0</td>\n",
       "      <td>0</td>\n",
       "      <td>0</td>\n",
       "      <td>0</td>\n",
       "      <td>0</td>\n",
       "      <td>0</td>\n",
       "      <td>0</td>\n",
       "    </tr>\n",
       "    <tr>\n",
       "      <th>1</th>\n",
       "      <td>Data architecte</td>\n",
       "      <td>Python/Java/Scala/MongoDB</td>\n",
       "      <td>Master</td>\n",
       "      <td>3.0</td>\n",
       "      <td>Marseille</td>\n",
       "      <td>Confirme</td>\n",
       "      <td>1</td>\n",
       "      <td>0</td>\n",
       "      <td>0</td>\n",
       "      <td>1</td>\n",
       "      <td>...</td>\n",
       "      <td>0</td>\n",
       "      <td>0</td>\n",
       "      <td>0</td>\n",
       "      <td>0</td>\n",
       "      <td>0</td>\n",
       "      <td>0</td>\n",
       "      <td>0</td>\n",
       "      <td>0</td>\n",
       "      <td>0</td>\n",
       "      <td>0</td>\n",
       "    </tr>\n",
       "    <tr>\n",
       "      <th>2</th>\n",
       "      <td>Lead data scientist</td>\n",
       "      <td>SPSS/SQL/Teradata/R/Python/Tensorflow/scikit-l...</td>\n",
       "      <td>Master</td>\n",
       "      <td>3.0</td>\n",
       "      <td>Nantes</td>\n",
       "      <td>Confirme</td>\n",
       "      <td>1</td>\n",
       "      <td>1</td>\n",
       "      <td>1</td>\n",
       "      <td>0</td>\n",
       "      <td>...</td>\n",
       "      <td>0</td>\n",
       "      <td>0</td>\n",
       "      <td>0</td>\n",
       "      <td>0</td>\n",
       "      <td>0</td>\n",
       "      <td>0</td>\n",
       "      <td>0</td>\n",
       "      <td>0</td>\n",
       "      <td>0</td>\n",
       "      <td>0</td>\n",
       "    </tr>\n",
       "  </tbody>\n",
       "</table>\n",
       "<p>3 rows × 62 columns</p>\n",
       "</div>"
      ],
      "text/plain": [
       "                Metier                                       Technologies  \\\n",
       "0       Data scientist      Matlab/Python/Pyspark/Scikit-learn/Tensorflow   \n",
       "1      Data architecte                          Python/Java/Scala/MongoDB   \n",
       "2  Lead data scientist  SPSS/SQL/Teradata/R/Python/Tensorflow/scikit-l...   \n",
       "\n",
       "  Diplome  Experience      Ville Exp_label  python  r  sql  java  ...  hbase  \\\n",
       "0  Master         1.0      Paris  Debutant       1  1    0     0  ...      0   \n",
       "1  Master         3.0  Marseille  Confirme       1  0    0     1  ...      0   \n",
       "2  Master         3.0     Nantes  Confirme       1  1    1     0  ...      0   \n",
       "\n",
       "   numpy  redshift  nosq  hadoop(hdfs)  oracle  mysql  windows  perl  ruby  \n",
       "0      0         0     0             0       0      0        0     0     0  \n",
       "1      0         0     0             0       0      0        0     0     0  \n",
       "2      0         0     0             0       0      0        0     0     0  \n",
       "\n",
       "[3 rows x 62 columns]"
      ]
     },
     "execution_count": 25,
     "metadata": {},
     "output_type": "execute_result"
    }
   ],
   "source": [
    "df_num[:3]"
   ]
  },
  {
   "cell_type": "markdown",
   "metadata": {},
   "source": [
    "Preparons les donner pour clustering et classification."
   ]
  },
  {
   "cell_type": "code",
   "execution_count": 26,
   "metadata": {},
   "outputs": [],
   "source": [
    "from sklearn.preprocessing import RobustScaler\n",
    "\n",
    "scaler = RobustScaler()\n",
    "df_num = df_num.drop(['Technologies','Exp_label'], axis=1)\n",
    "df_num['Experience'] = scaler.fit_transform(df_num[['Experience']].values)\n",
    "# Transformer en dummies les autres variables.\n",
    "df_num = pd.get_dummies(data=df_num, columns=['Diplome', 'Ville'])"
   ]
  },
  {
   "cell_type": "code",
   "execution_count": 27,
   "metadata": {
    "scrolled": true
   },
   "outputs": [],
   "source": [
    "#df_num.info()"
   ]
  },
  {
   "cell_type": "markdown",
   "metadata": {},
   "source": [
    "### La prédiction des métiers manquants dans la base de données  "
   ]
  },
  {
   "cell_type": "code",
   "execution_count": 28,
   "metadata": {
    "scrolled": false
   },
   "outputs": [
    {
     "name": "stdout",
     "output_type": "stream",
     "text": [
      "Les pourcentages de métiers\n",
      "\n",
      "Data scientist         40.3\n",
      "Data engineer          24.5\n",
      "Data architecte        22.2\n",
      "Lead data scientist    12.8\n",
      "Name: Metier, dtype: float64\n"
     ]
    }
   ],
   "source": [
    "print('Les pourcentages de métiers')\n",
    "print('')\n",
    "print(round(df['Metier'].value_counts()/len(df)*100,1))"
   ]
  },
  {
   "cell_type": "markdown",
   "metadata": {},
   "source": [
    "Un problème multi-label avec un modéré déséquilibre de classes. De plus on a vue que les classes 'Data engineer' et 'Data architecte' ont des caractérisques très similaires, master et 3 ans d'expérience en moyenne. Ceci nous dit que les résultats ne seront pas prometteurs."
   ]
  },
  {
   "cell_type": "code",
   "execution_count": 29,
   "metadata": {},
   "outputs": [],
   "source": [
    "from sklearn.preprocessing import LabelEncoder\n",
    "le = LabelEncoder()\n",
    "\n",
    "# Choisir les données pour entraîner le modèle.\n",
    "x_train = df_num.dropna().drop('Metier', axis=1)\n",
    "y_train = le.fit_transform(df_num.dropna()['Metier'].astype(str))"
   ]
  },
  {
   "cell_type": "code",
   "execution_count": 30,
   "metadata": {},
   "outputs": [],
   "source": [
    "from sklearn.model_selection import train_test_split\n",
    "\n",
    "x_train, x_test, y_train, y_test = train_test_split(x_train, \n",
    "                                                    y_train, \n",
    "                                                    test_size=0.2, \n",
    "                                                    random_state=42)"
   ]
  },
  {
   "cell_type": "markdown",
   "metadata": {},
   "source": [
    "Comparons les performances de divers modèles."
   ]
  },
  {
   "cell_type": "code",
   "execution_count": 31,
   "metadata": {},
   "outputs": [],
   "source": [
    "from sklearn.linear_model import LogisticRegression\n",
    "from sklearn.svm import SVC\n",
    "from sklearn.tree import DecisionTreeClassifier\n",
    "from sklearn.ensemble import RandomForestClassifier\n",
    "from sklearn.model_selection import cross_val_score"
   ]
  },
  {
   "cell_type": "code",
   "execution_count": 32,
   "metadata": {},
   "outputs": [],
   "source": [
    "classifiers = {\n",
    "    \"Logisitic Regression\": LogisticRegression(max_iter=300),\n",
    "    \"Support Vector Classifier\": SVC(),\n",
    "    \"Decision Tree Classifier\": DecisionTreeClassifier(),\n",
    "    \"Random Forest Classifier\": RandomForestClassifier()\n",
    "}"
   ]
  },
  {
   "cell_type": "code",
   "execution_count": 33,
   "metadata": {
    "scrolled": false
   },
   "outputs": [
    {
     "name": "stdout",
     "output_type": "stream",
     "text": [
      "LogisticRegression a un score de training de 90.0 % score de précision\n",
      "SVC a un score de training de 90.0 % score de précision\n",
      "DecisionTreeClassifier a un score de training de 90.0 % score de précision\n",
      "RandomForestClassifier a un score de training de 90.0 % score de précision\n"
     ]
    }
   ],
   "source": [
    "for key, classifier in classifiers.items():\n",
    "    classifier.fit(x_train.values, y_train)\n",
    "    training_score = cross_val_score(classifier, x_train.values, y_train, cv=5)\n",
    "    print(classifier.__class__.__name__, \"a un score de training de\"\n",
    " , round(training_score.mean(), 1) * 100, \"% score de précision\")"
   ]
  },
  {
   "cell_type": "markdown",
   "metadata": {},
   "source": [
    "On va chercher les meilleurs paramètres pour Random Forest."
   ]
  },
  {
   "cell_type": "markdown",
   "metadata": {},
   "source": [
    "#Utiliser RandomizedSearchCV pour trouver les meillieurs parametres.\n",
    "from sklearn.model_selection import RandomizedSearchCV\n",
    "\n",
    "#Random forest\n",
    "random_grid = {'n_estimators': [100, 200, 400, 500, 600, 700],\n",
    "              'bootstrap': [True, False],\n",
    "              'max_features': ['log2','sqrt','auto'], \n",
    "              'criterion': ['entropy', 'gini'],\n",
    "              'max_depth': [10, 20],\n",
    "              'min_samples_split': [2, 5, 10, 20, 30],\n",
    "              'min_samples_leaf': [1, 2, 4]\n",
    "              }\n",
    "\n",
    "rf_random = RandomizedSearchCV(RandomForestClassifier(), param_distributions = random_grid,\n",
    "                n_iter=100, cv=5, verbose=2, random_state=42, n_jobs=-1)\n",
    "rf_random.fit(x_train.values, y_train)\n",
    "\n",
    "rf = rf_random.best_estimator_\n",
    "\n",
    "rf"
   ]
  },
  {
   "cell_type": "code",
   "execution_count": 34,
   "metadata": {},
   "outputs": [],
   "source": [
    "# Classifier avec les paramètres trouvé dans l'étape précedant.\n",
    "cl = RandomForestClassifier(bootstrap=False, max_depth=20, min_samples_leaf=4,\n",
    "                            min_samples_split=30, n_estimators=500)"
   ]
  },
  {
   "cell_type": "code",
   "execution_count": 35,
   "metadata": {},
   "outputs": [
    {
     "data": {
      "text/plain": [
       "RandomForestClassifier(bootstrap=False, max_depth=20, min_samples_leaf=4,\n",
       "                       min_samples_split=30, n_estimators=500)"
      ]
     },
     "execution_count": 35,
     "metadata": {},
     "output_type": "execute_result"
    }
   ],
   "source": [
    "cl.fit(x_train.values, y_train)"
   ]
  },
  {
   "cell_type": "code",
   "execution_count": 36,
   "metadata": {},
   "outputs": [],
   "source": [
    "from sklearn.metrics import confusion_matrix, classification_report\n",
    "\n",
    "y_pred = cl.predict(x_test.values)\n",
    "\n",
    "cm = confusion_matrix(y_test, y_pred)"
   ]
  },
  {
   "cell_type": "code",
   "execution_count": 37,
   "metadata": {},
   "outputs": [
    {
     "data": {
      "image/png": "[encoded data removed]",
      "text/plain": [
       "<Figure size 360x360 with 1 Axes>"
      ]
     },
     "metadata": {},
     "output_type": "display_data"
    }
   ],
   "source": [
    "f, ax = plt.subplots(1,1, figsize=(5,5))\n",
    "sb.heatmap(cm, annot=True, cmap='Blues', fmt='d', ax=ax, cbar=False)\n",
    "ax.set_xlabel('Labels prédits')\n",
    "ax.set_ylabel('Labels vrais') \n",
    "ax.set_title('Matrice de confusion') \n",
    "ax.xaxis.set_ticklabels(['Architecte', 'Engineer', 'Scientist', 'Lead']) \n",
    "ax.yaxis.set_ticklabels(['Architecte', 'Engineer', 'Scientist', 'Lead']);"
   ]
  },
  {
   "cell_type": "code",
   "execution_count": 38,
   "metadata": {
    "scrolled": true
   },
   "outputs": [
    {
     "name": "stdout",
     "output_type": "stream",
     "text": [
      "              precision    recall  f1-score   support\n",
      "\n",
      "  Architecte       0.99      0.97      0.98       416\n",
      "    Engineer       1.00      1.00      1.00       494\n",
      "   Scientist       0.83      0.95      0.88       784\n",
      "        Lead       0.69      0.34      0.46       219\n",
      "\n",
      "    accuracy                           0.90      1913\n",
      "   macro avg       0.87      0.82      0.83      1913\n",
      "weighted avg       0.89      0.90      0.88      1913\n",
      "\n"
     ]
    }
   ],
   "source": [
    "target_names = ['Architecte', 'Engineer', 'Scientist', 'Lead']\n",
    "print(classification_report(y_test, y_pred, target_names=target_names))"
   ]
  },
  {
   "cell_type": "markdown",
   "metadata": {},
   "source": [
    "* Recall scores ($\\frac{TP}{TP+FN}$) pour data architecte, data engineer et data scientist sont $0,97$, $1$ et $0,95$. Recall score pour lead data scientist est très bas $0,33$. \n",
    "\n",
    "* Ceci explique pour deux raisons, l'une que lead data scietnist est la classe minoritaire seulement $12\\%$ des donné. Deuxiemement on voit sur la matrice de confusion que tous les fauts negatives pour la classe lead data scientist sont fauts positive pour data scientist. Le model dissocie mal ces deux classes et comme data scientist est la classe majoritaire il donne préference à data scientist.\n",
    "\n",
    "* Notre modèle identifient très bien les architectes et engineers. \n",
    "\n",
    "* Pour la paramètre \"class_weight\" le mode \"balanced\" utilise les valeurs de \"y\" pour ajuster automatiquement les poids de manière inversement proportionnelle aux fréquences des classes. Nous pénalisons ainsi plus fortement une erreur de classification d’une classe minoritaire par rapport à une erreur de classification d’une classe majoritaire. Ainsi recall score pour lead data scientist va augmanter mais le score de précision va diminuer."
   ]
  },
  {
   "cell_type": "markdown",
   "metadata": {},
   "source": [
    "Maintenant réalisons la prédiction des métiers manquants dans la base de données par ce modèle."
   ]
  },
  {
   "cell_type": "code",
   "execution_count": 39,
   "metadata": {},
   "outputs": [],
   "source": [
    "X = df_num[df_num['Metier'].isna()].drop('Metier', axis=1)\n",
    "df.loc[df['Metier'].isna(),'Metier'] = le.inverse_transform(cl.predict(X))"
   ]
  },
  {
   "cell_type": "code",
   "execution_count": 40,
   "metadata": {},
   "outputs": [],
   "source": [
    "#df.head()"
   ]
  }
 ],
 "metadata": {
  "kernelspec": {
   "display_name": "Python 3",
   "language": "python",
   "name": "python3"
  },
  "language_info": {
   "codemirror_mode": {
    "name": "ipython",
    "version": 3
   },
   "file_extension": ".py",
   "mimetype": "text/x-python",
   "name": "python",
   "nbconvert_exporter": "python",
   "pygments_lexer": "ipython3",
   "version": "3.8.3"
  }
 },
 "nbformat": 4,
 "nbformat_minor": 2
}
